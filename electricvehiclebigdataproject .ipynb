{
 "cells": [
  {
   "cell_type": "code",
   "execution_count": 1,
   "id": "9fd53feb",
   "metadata": {},
   "outputs": [],
   "source": [
    "import findspark\n",
    "findspark.init()\n",
    "\n",
    "import pyspark \n",
    "from pyspark import SparkContext\n",
    "sc =SparkContext.getOrCreate()\n",
    "from pyspark.sql import SparkSession\n",
    "spark = SparkSession.builder.appName('electric vehicle').getOrCreate()\n",
    "from pyspark.sql import  functions\n",
    "from pyspark.ml import Pipeline\n",
    "from pyspark.sql.functions import count\n",
    "\n",
    "\n"
   ]
  },
  {
   "cell_type": "code",
   "execution_count": null,
   "id": "a339684b",
   "metadata": {},
   "outputs": [],
   "source": []
  },
  {
   "cell_type": "code",
   "execution_count": 3,
   "id": "a239181a",
   "metadata": {},
   "outputs": [],
   "source": [
    "#Load the csv file into Dataframe,The code used is given below.\n",
    "\n",
    "df = spark.read.option('header','true').option('inferSchema','true').csv(\"ElectricCarData_Norm.csv\")"
   ]
  },
  {
   "cell_type": "code",
   "execution_count": 4,
   "id": "7d1276ec",
   "metadata": {},
   "outputs": [
    {
     "name": "stdout",
     "output_type": "stream",
     "text": [
      "['Brand', 'Model', 'Accel', 'TopSpeed', 'Range', 'Efficiency', 'FastCharge', 'RapidCharge', 'PowerTrain', 'PlugType', 'BodyStyle', 'Segment', 'Seats', 'PriceEuro']\n"
     ]
    }
   ],
   "source": [
    "#Print the columns. The code used is given below:\n",
    "print(df.columns)"
   ]
  },
  {
   "cell_type": "code",
   "execution_count": 285,
   "id": "e8aaf926",
   "metadata": {},
   "outputs": [
    {
     "name": "stdout",
     "output_type": "stream",
     "text": [
      "103\n"
     ]
    }
   ],
   "source": [
    "#Count the no of records.\n",
    "print(df.count())"
   ]
  },
  {
   "cell_type": "code",
   "execution_count": 203,
   "id": "85d930c7",
   "metadata": {},
   "outputs": [
    {
     "data": {
      "text/plain": [
       "[Row(Brand='Tesla ', Model='Model 3 Long Range Dual Motor', Accel='4.6 sec', TopSpeed='233 km/h', Range='450 km', Efficiency='161 Wh/km', FastCharge='940 km/h', RapidCharge='Rapid charging possible', PowerTrain='All Wheel Drive', PlugType='Type 2 CCS', BodyStyle='Sedan', Segment='D', Seats=5, PriceEuro=55480)]"
      ]
     },
     "execution_count": 203,
     "metadata": {},
     "output_type": "execute_result"
    }
   ],
   "source": [
    "#Display record in different ways:1.take Funtion   \n",
    "\n",
    "df.take(1)"
   ]
  },
  {
   "cell_type": "code",
   "execution_count": 286,
   "id": "9c361aec",
   "metadata": {
    "scrolled": true
   },
   "outputs": [
    {
     "name": "stdout",
     "output_type": "stream",
     "text": [
      "+-----------+--------------------+--------+--------+------+----------+----------+--------------------+----------------+----------+---------+-------+-----+---------+\n",
      "|      Brand|               Model|   Accel|TopSpeed| Range|Efficiency|FastCharge|         RapidCharge|      PowerTrain|  PlugType|BodyStyle|Segment|Seats|PriceEuro|\n",
      "+-----------+--------------------+--------+--------+------+----------+----------+--------------------+----------------+----------+---------+-------+-----+---------+\n",
      "|     Tesla |Model 3 Long Rang...| 4.6 sec|233 km/h|450 km| 161 Wh/km|  940 km/h|Rapid charging po...| All Wheel Drive|Type 2 CCS|    Sedan|      D|    5|    55480|\n",
      "|Volkswagen |           ID.3 Pure|10.0 sec|160 km/h|270 km| 167 Wh/km|  250 km/h|Rapid charging po...|Rear Wheel Drive|Type 2 CCS|Hatchback|      C|    5|    30000|\n",
      "+-----------+--------------------+--------+--------+------+----------+----------+--------------------+----------------+----------+---------+-------+-----+---------+\n",
      "only showing top 2 rows\n",
      "\n"
     ]
    }
   ],
   "source": [
    "#Show Function – shows the results in a structured format\n",
    "\n",
    "df.show(2)\n"
   ]
  },
  {
   "cell_type": "code",
   "execution_count": 205,
   "id": "2a2b4515",
   "metadata": {},
   "outputs": [
    {
     "data": {
      "text/plain": [
       "[Row(Brand='Tesla ', Model='Model 3 Long Range Dual Motor', Accel='4.6 sec', TopSpeed='233 km/h', Range='450 km', Efficiency='161 Wh/km', FastCharge='940 km/h', RapidCharge='Rapid charging possible', PowerTrain='All Wheel Drive', PlugType='Type 2 CCS', BodyStyle='Sedan', Segment='D', Seats=5, PriceEuro=55480),\n",
       " Row(Brand='Volkswagen ', Model='ID.3 Pure', Accel='10.0 sec', TopSpeed='160 km/h', Range='270 km', Efficiency='167 Wh/km', FastCharge='250 km/h', RapidCharge='Rapid charging possible', PowerTrain='Rear Wheel Drive', PlugType='Type 2 CCS', BodyStyle='Hatchback', Segment='C', Seats=5, PriceEuro=30000)]"
      ]
     },
     "execution_count": 205,
     "metadata": {},
     "output_type": "execute_result"
    }
   ],
   "source": [
    "#3.Head Function\n",
    "\n",
    "df.head(2)"
   ]
  },
  {
   "cell_type": "code",
   "execution_count": 206,
   "id": "e161c9f9",
   "metadata": {
    "scrolled": true
   },
   "outputs": [
    {
     "name": "stdout",
     "output_type": "stream",
     "text": [
      "root\n",
      " |-- Brand: string (nullable = true)\n",
      " |-- Model: string (nullable = true)\n",
      " |-- Accel: string (nullable = true)\n",
      " |-- TopSpeed: string (nullable = true)\n",
      " |-- Range: string (nullable = true)\n",
      " |-- Efficiency: string (nullable = true)\n",
      " |-- FastCharge: string (nullable = true)\n",
      " |-- RapidCharge: string (nullable = true)\n",
      " |-- PowerTrain: string (nullable = true)\n",
      " |-- PlugType: string (nullable = true)\n",
      " |-- BodyStyle: string (nullable = true)\n",
      " |-- Segment: string (nullable = true)\n",
      " |-- Seats: integer (nullable = true)\n",
      " |-- PriceEuro: integer (nullable = true)\n",
      "\n"
     ]
    }
   ],
   "source": [
    "#printSchema Function – This shows the column names and the data type they belongs to\n",
    "\n",
    "df.printSchema()"
   ]
  },
  {
   "cell_type": "code",
   "execution_count": 287,
   "id": "c05f024f",
   "metadata": {},
   "outputs": [],
   "source": [
    "#Remove Duplications\n",
    "df=df.dropDuplicates()"
   ]
  },
  {
   "cell_type": "code",
   "execution_count": 288,
   "id": "3c54251a",
   "metadata": {},
   "outputs": [
    {
     "data": {
      "text/plain": [
       "103"
      ]
     },
     "execution_count": 288,
     "metadata": {},
     "output_type": "execute_result"
    }
   ],
   "source": [
    "df.count()"
   ]
  },
  {
   "cell_type": "code",
   "execution_count": 207,
   "id": "f82d49a6",
   "metadata": {},
   "outputs": [
    {
     "name": "stdout",
     "output_type": "stream",
     "text": [
      "+-----+-----+-----+--------+-----+----------+----------+-----------+----------+--------+---------+-------+-----+---------+\n",
      "|Brand|Model|Accel|TopSpeed|Range|Efficiency|FastCharge|RapidCharge|PowerTrain|PlugType|BodyStyle|Segment|Seats|PriceEuro|\n",
      "+-----+-----+-----+--------+-----+----------+----------+-----------+----------+--------+---------+-------+-----+---------+\n",
      "|    0|    0|    0|       0|    0|         0|         0|          0|         0|       0|        0|      0|    0|        0|\n",
      "+-----+-----+-----+--------+-----+----------+----------+-----------+----------+--------+---------+-------+-----+---------+\n",
      "\n"
     ]
    }
   ],
   "source": [
    "#checking null values \n",
    "from pyspark.sql.functions import col,isnan, when, count\n",
    "df.select([count(when(isnan(c) | col(c).isNull(), c)).alias(c) for c in df.columns]).show()"
   ]
  },
  {
   "cell_type": "code",
   "execution_count": 208,
   "id": "7d4d9a42",
   "metadata": {},
   "outputs": [
    {
     "name": "stdout",
     "output_type": "stream",
     "text": [
      "+---------+-----+\n",
      "|    Brand|count|\n",
      "+---------+-----+\n",
      "|   Skoda |    6|\n",
      "|    Opel |    3|\n",
      "|  Aiways |    1|\n",
      "|   Lucid |    1|\n",
      "|Mercedes |    3|\n",
      "|Polestar |    1|\n",
      "| Renault |    5|\n",
      "|  Jaguar |    1|\n",
      "|    Fiat |    2|\n",
      "|   Lexus |    1|\n",
      "|   CUPRA |    1|\n",
      "|   Tesla |   13|\n",
      "|     BMW |    4|\n",
      "| Porsche |    5|\n",
      "|   Volvo |    1|\n",
      "| Hyundai |    3|\n",
      "| Peugeot |    2|\n",
      "|   Byton |    3|\n",
      "|    SEAT |    1|\n",
      "|   Mazda |    1|\n",
      "+---------+-----+\n",
      "only showing top 20 rows\n",
      "\n"
     ]
    }
   ],
   "source": [
    "#DataFrame Operations:\n",
    "\n",
    "#1.GroupBy\n",
    "\n",
    "df.groupBy('Brand').count().show()"
   ]
  },
  {
   "cell_type": "code",
   "execution_count": 209,
   "id": "b9560969",
   "metadata": {},
   "outputs": [
    {
     "name": "stdout",
     "output_type": "stream",
     "text": [
      "+--------------------+\n",
      "|               Model|\n",
      "+--------------------+\n",
      "|                One |\n",
      "|          ID.3 Pro S|\n",
      "|         Ariya 87kWh|\n",
      "|             UX 300e|\n",
      "|     e-NV200 Evalia |\n",
      "|Cybertruck Single...|\n",
      "|   M-Byte 72 kWh 2WD|\n",
      "|              e-Up! |\n",
      "|Mustang Mach-E SR...|\n",
      "|Model 3 Standard ...|\n",
      "| e-tron S 55 quattro|\n",
      "|          Q4 e-tron |\n",
      "| 3 Crossback E-Tense|\n",
      "|Model Y Long Rang...|\n",
      "|         Enyaq iV 60|\n",
      "|ID.3 Pro Performance|\n",
      "|            ID.3 Pro|\n",
      "|e-tron Sportback ...|\n",
      "|            Corsa-e |\n",
      "|         Enyaq iV 50|\n",
      "+--------------------+\n",
      "only showing top 20 rows\n",
      "\n"
     ]
    }
   ],
   "source": [
    "# 2. Distinct \n",
    "\n",
    "df.select('Model').distinct().show()"
   ]
  },
  {
   "cell_type": "code",
   "execution_count": 109,
   "id": "e66f6c8e",
   "metadata": {},
   "outputs": [
    {
     "name": "stdout",
     "output_type": "stream",
     "text": [
      "+-----------+-----+\n",
      "|      Brand|count|\n",
      "+-----------+-----+\n",
      "|     Tesla |   13|\n",
      "|      Audi |    9|\n",
      "|Volkswagen |    8|\n",
      "|    Nissan |    8|\n",
      "|     Skoda |    6|\n",
      "|   Renault |    5|\n",
      "|   Porsche |    5|\n",
      "|       Kia |    5|\n",
      "|       BMW |    4|\n",
      "|      Ford |    4|\n",
      "+-----------+-----+\n",
      "only showing top 10 rows\n",
      "\n"
     ]
    }
   ],
   "source": [
    "# 3.Orderby \n",
    "\n",
    "# Top 10 brands \n",
    "df.groupby('Brand').count().orderBy('count',ascending= False).show(10)"
   ]
  },
  {
   "cell_type": "code",
   "execution_count": 210,
   "id": "34352538",
   "metadata": {},
   "outputs": [
    {
     "name": "stdout",
     "output_type": "stream",
     "text": [
      "['Column', 'DataFrame', 'DataType', 'PandasUDFType', 'PythonEvalType', 'SparkContext', 'StringType', 'UserDefinedFunction', '__all__', '__builtins__', '__cached__', '__doc__', '__file__', '__loader__', '__name__', '__package__', '__spec__', '_binary_mathfunctions', '_collect_list_doc', '_collect_set_doc', '_create_binary_mathfunction', '_create_column_from_literal', '_create_column_from_name', '_create_function', '_create_function_over_column', '_create_udf', '_create_window_function', '_functions', '_functions_1_4_over_column', '_functions_1_6_over_column', '_functions_2_1_over_column', '_functions_2_4', '_functions_deprecated', '_functions_over_column', '_lit_doc', '_message', '_options_to_str', '_string_functions', '_test', '_to_java_column', '_to_seq', '_window_functions', '_wrap_deprecated_function', 'abs', 'acos', 'add_months', 'approxCountDistinct', 'approx_count_distinct', 'array', 'array_contains', 'array_distinct', 'array_except', 'array_intersect', 'array_join', 'array_max', 'array_min', 'array_position', 'array_remove', 'array_repeat', 'array_sort', 'array_union', 'arrays_overlap', 'arrays_zip', 'asc', 'asc_nulls_first', 'asc_nulls_last', 'ascii', 'asin', 'atan', 'atan2', 'avg', 'base64', 'basestring', 'bin', 'bitwiseNOT', 'blacklist', 'broadcast', 'bround', 'cbrt', 'ceil', 'coalesce', 'col', 'collect_list', 'collect_set', 'column', 'concat', 'concat_ws', 'conv', 'corr', 'cos', 'cosh', 'count', 'countDistinct', 'covar_pop', 'covar_samp', 'crc32', 'create_map', 'cume_dist', 'current_date', 'current_timestamp', 'date_add', 'date_format', 'date_sub', 'date_trunc', 'datediff', 'dayofmonth', 'dayofweek', 'dayofyear', 'decode', 'degrees', 'dense_rank', 'desc', 'desc_nulls_first', 'desc_nulls_last', 'element_at', 'encode', 'exp', 'explode', 'explode_outer', 'expm1', 'expr', 'factorial', 'first', 'flatten', 'floor', 'format_number', 'format_string', 'from_csv', 'from_json', 'from_unixtime', 'from_utc_timestamp', 'functools', 'get_json_object', 'greatest', 'grouping', 'grouping_id', 'hash', 'hex', 'hour', 'hypot', 'ignore_unicode_prefix', 'initcap', 'input_file_name', 'instr', 'isnan', 'isnull', 'json_tuple', 'kurtosis', 'lag', 'last', 'last_day', 'lead', 'least', 'length', 'levenshtein', 'lit', 'locate', 'log', 'log10', 'log1p', 'log2', 'lower', 'lpad', 'ltrim', 'map_concat', 'map_entries', 'map_from_arrays', 'map_from_entries', 'map_keys', 'map_values', 'max', 'md5', 'mean', 'min', 'minute', 'monotonically_increasing_id', 'month', 'months_between', 'nanvl', 'next_day', 'ntile', 'overlay', 'pandas_udf', 'percent_rank', 'posexplode', 'posexplode_outer', 'pow', 'quarter', 'radians', 'rand', 'randn', 'rank', 'regexp_extract', 'regexp_replace', 'repeat', 'reverse', 'rint', 'round', 'row_number', 'rpad', 'rtrim', 'schema_of_csv', 'schema_of_json', 'second', 'sequence', 'sha1', 'sha2', 'shiftLeft', 'shiftRight', 'shiftRightUnsigned', 'shuffle', 'signum', 'sin', 'since', 'sinh', 'size', 'skewness', 'slice', 'sort_array', 'soundex', 'spark_partition_id', 'split', 'sqrt', 'stddev', 'stddev_pop', 'stddev_samp', 'struct', 'substring', 'substring_index', 'sum', 'sumDistinct', 'sys', 'tan', 'tanh', 'toDegrees', 'toRadians', 'to_csv', 'to_date', 'to_json', 'to_str', 'to_timestamp', 'to_utc_timestamp', 'translate', 'trim', 'trunc', 'udf', 'unbase64', 'unhex', 'unix_timestamp', 'upper', 'var_pop', 'var_samp', 'variance', 'warnings', 'weekofyear', 'when', 'window', 'xxhash64', 'year']\n"
     ]
    }
   ],
   "source": [
    "#4. Built-in Function\n",
    "\n",
    "print(dir(functions))"
   ]
  },
  {
   "cell_type": "code",
   "execution_count": 211,
   "id": "4515eba4",
   "metadata": {},
   "outputs": [
    {
     "name": "stdout",
     "output_type": "stream",
     "text": [
      "+-----------------------------------------+\n",
      "|array(brand, Model, TopSpeed, Efficiency)|\n",
      "+-----------------------------------------+\n",
      "|                     [Tesla , Model 3 ...|\n",
      "|                     [Volkswagen , ID....|\n",
      "|                     [Polestar , 2, 21...|\n",
      "|                     [BMW , iX3 , 180 ...|\n",
      "+-----------------------------------------+\n",
      "only showing top 4 rows\n",
      "\n"
     ]
    }
   ],
   "source": [
    "# This is to calculate array of brand,Model,TopSpeed and Efficiency columns.\n",
    "from pyspark.sql.functions import array\n",
    "df.select(array('brand','Model','TopSpeed','Efficiency')).show(4)\n"
   ]
  },
  {
   "cell_type": "code",
   "execution_count": 289,
   "id": "371a0f9a",
   "metadata": {},
   "outputs": [
    {
     "data": {
      "text/plain": [
       "DataFrame[summary: string, Brand: string, Model: string, Accel: string, TopSpeed: string, Range: string, Efficiency: string, FastCharge: string, RapidCharge: string, PowerTrain: string, PlugType: string, BodyStyle: string, Segment: string, Seats: string, PriceEuro: string]"
      ]
     },
     "execution_count": 289,
     "metadata": {},
     "output_type": "execute_result"
    }
   ],
   "source": [
    "#5. Describe function\n",
    "df.describe()"
   ]
  },
  {
   "cell_type": "raw",
   "id": "6b8c7c22",
   "metadata": {},
   "source": []
  },
  {
   "cell_type": "code",
   "execution_count": 47,
   "id": "ac263141",
   "metadata": {},
   "outputs": [
    {
     "name": "stdout",
     "output_type": "stream",
     "text": [
      "+-------+-------+-------+--------+------+----------+----------+--------------------+---------------+----------+---------+-------+-----+---------+\n",
      "|  Brand|  Model|  Accel|TopSpeed| Range|Efficiency|FastCharge|         RapidCharge|     PowerTrain|  PlugType|BodyStyle|Segment|Seats|PriceEuro|\n",
      "+-------+-------+-------+--------+------+----------+----------+--------------------+---------------+----------+---------+-------+-----+---------+\n",
      "|Jaguar |I-Pace |4.8 sec|200 km/h|365 km| 232 Wh/km|  340 km/h|Rapid charging po...|All Wheel Drive|Type 2 CCS|      SUV|      E|    5|    75351|\n",
      "+-------+-------+-------+--------+------+----------+----------+--------------------+---------------+----------+---------+-------+-----+---------+\n",
      "only showing top 1 row\n",
      "\n"
     ]
    }
   ],
   "source": [
    "#SQL Queries\n",
    "\n",
    "\n",
    "\n",
    "from pyspark.sql import SQLContext \n",
    "sqlContext = SQLContext(sc)\n",
    "df.registerTempTable('data_table')\n",
    "sqlContext.sql('select * from data_table').show(1)"
   ]
  },
  {
   "cell_type": "code",
   "execution_count": 49,
   "id": "818e3638",
   "metadata": {},
   "outputs": [
    {
     "name": "stdout",
     "output_type": "stream",
     "text": [
      "+---------+\n",
      "|    Brand|\n",
      "+---------+\n",
      "|   Skoda |\n",
      "|    Opel |\n",
      "|  Aiways |\n",
      "|   Lucid |\n",
      "|Mercedes |\n",
      "|Polestar |\n",
      "| Renault |\n",
      "|  Jaguar |\n",
      "|    Fiat |\n",
      "|   Lexus |\n",
      "|   CUPRA |\n",
      "|   Tesla |\n",
      "|     BMW |\n",
      "| Porsche |\n",
      "|   Volvo |\n",
      "| Hyundai |\n",
      "| Peugeot |\n",
      "|   Byton |\n",
      "|    SEAT |\n",
      "|   Mazda |\n",
      "+---------+\n",
      "only showing top 20 rows\n",
      "\n"
     ]
    }
   ],
   "source": [
    "#selecting distinct value of 'Brand'column. code used is  given below\n",
    "\n",
    "sqlContext.sql('select distinct(Brand) from data_table').show()\n"
   ]
  },
  {
   "cell_type": "code",
   "execution_count": 51,
   "id": "8b7574e7",
   "metadata": {},
   "outputs": [
    {
     "name": "stdout",
     "output_type": "stream",
     "text": [
      "+---------------+\n",
      "|max(Efficiency)|\n",
      "+---------------+\n",
      "|      273 Wh/km|\n",
      "+---------------+\n",
      "\n"
     ]
    }
   ],
   "source": [
    "#Finding maximum value in 'Efficiency' column. \n",
    "\n",
    "sqlContext.sql('select max(Efficiency) from data_table').show()"
   ]
  },
  {
   "cell_type": "code",
   "execution_count": 5,
   "id": "99ed3994",
   "metadata": {},
   "outputs": [
    {
     "data": {
      "text/plain": [
       "0.0"
      ]
     },
     "execution_count": 5,
     "metadata": {},
     "output_type": "execute_result"
    }
   ],
   "source": [
    "#PySpark SQL\n",
    "#Percentrage of Seats in all Model\n",
    "from pyspark.sql.functions import count,col\n",
    "df.filter(col('Model')=='Seats').count()/df.select('Model').count()\n",
    "    \n",
    " "
   ]
  },
  {
   "cell_type": "code",
   "execution_count": 53,
   "id": "e5a31acf",
   "metadata": {},
   "outputs": [
    {
     "name": "stdout",
     "output_type": "stream",
     "text": [
      "+-------------------+-------------------+\n",
      "|skewness(PriceEuro)|kurtosis(PriceEuro)|\n",
      "+-------------------+-------------------+\n",
      "| 2.1894411774897073|    5.6666790739674|\n",
      "+-------------------+-------------------+\n",
      "\n"
     ]
    }
   ],
   "source": [
    "#Statistical Analysis with dataset\n",
    "#Calculating skewness and kurtosis of column ‘PriceEuro’.\n",
    "from pyspark.sql.functions import col,skewness,kurtosis\n",
    "df.select(skewness(df.PriceEuro),kurtosis(df.PriceEuro)).show()"
   ]
  },
  {
   "cell_type": "code",
   "execution_count": 54,
   "id": "72db646f",
   "metadata": {},
   "outputs": [
    {
     "name": "stdout",
     "output_type": "stream",
     "text": [
      "['Seats', 'PriceEuro']\n"
     ]
    }
   ],
   "source": [
    "#Calculating correlation between PriceEuro and all the other numerical attributes\n",
    "numeric_features = [t[0] for t in df.dtypes if  t[1] =='int']\n",
    "print(numeric_features)"
   ]
  },
  {
   "cell_type": "code",
   "execution_count": null,
   "id": "921331e7",
   "metadata": {},
   "outputs": [],
   "source": []
  },
  {
   "cell_type": "code",
   "execution_count": 7,
   "id": "fed6c491",
   "metadata": {},
   "outputs": [
    {
     "data": {
      "image/png": "[encoded data removed]",
      "text/plain": [
       "<Figure size 1080x360 with 2 Axes>"
      ]
     },
     "metadata": {
      "needs_background": "light"
     },
     "output_type": "display_data"
    }
   ],
   "source": [
    "import seaborn as sns\n",
    "import matplotlib.pyplot as plt\n",
    "x = df.select('PriceEuro').toPandas()\n",
    "fig=plt.figure(figsize=(15,5))\n",
    "ax=fig.add_subplot(1,2,1)\n",
    "ax=sns.boxplot(data=x)\n",
    "\n",
    "ax=fig.add_subplot(1,2,2)\n",
    "ax=sns.violinplot(data=x)"
   ]
  },
  {
   "cell_type": "code",
   "execution_count": 126,
   "id": "059bbf03",
   "metadata": {
    "scrolled": true
   },
   "outputs": [
    {
     "data": {
      "text/plain": [
       "Text(0.5, 1.0, 'Scatter Plot')"
      ]
     },
     "execution_count": 126,
     "metadata": {},
     "output_type": "execute_result"
    },
    {
     "data": {
      "image/png": "[encoded data removed]",
      "text/plain": [
       "<Figure size 432x288 with 1 Axes>"
      ]
     },
     "metadata": {
      "needs_background": "light"
     },
     "output_type": "display_data"
    }
   ],
   "source": [
    "#Multi variant analysis\n",
    "#scatter plot\n",
    "x1 = df.toPandas()['PriceEuro'].values.tolist()\n",
    "y1 = df.toPandas()['TopSpeed'].values.tolist()\n",
    "plt.scatter(x1,y1,color='blue',s=8)\n",
    "plt.xlabel('PriceEuro')\n",
    "plt.ylabel('TopSpeed')\n",
    "plt.title('Scatter Plot')"
   ]
  },
  {
   "cell_type": "code",
   "execution_count": 128,
   "id": "e3790360",
   "metadata": {
    "scrolled": true
   },
   "outputs": [
    {
     "data": {
      "image/png": "[encoded data removed]",
      "text/plain": [
       "<Figure size 360x360 with 6 Axes>"
      ]
     },
     "metadata": {},
     "output_type": "display_data"
    }
   ],
   "source": [
    "#pair plot \n",
    "scatter_plot =df.select('Seats','PriceEuro')\n",
    "\n",
    "import seaborn as sns \n",
    "sns.set(style ='ticks')\n",
    "sns.pairplot(scatter_plot.toPandas())\n",
    "plt.show()"
   ]
  },
  {
   "cell_type": "code",
   "execution_count": 160,
   "id": "73837e63",
   "metadata": {},
   "outputs": [
    {
     "data": {
      "image/png": "[encoded data removed]",
      "text/plain": [
       "<Figure size 432x360 with 2 Axes>"
      ]
     },
     "metadata": {},
     "output_type": "display_data"
    }
   ],
   "source": [
    "#Correlation Matrix \n",
    "import pandas as pd\n",
    "df1=df.toPandas()\n",
    "corr_data = df1[['Seats','PriceEuro']]\n",
    "corr = corr_data.corr()\n",
    "\n",
    "\n",
    "cor_plot = sns.heatmap(corr,annot=True,cmap='RdYlGn',linewidths=0.2,annot_kws={'size':10})\n",
    "fig=plt.gcf()\n",
    "fig.set_size_inches(6,5)\n",
    "plt.xticks(fontsize=10,rotation=-30)\n",
    "plt.yticks(fontsize=10)\n",
    "plt.title('Correlation Matrix')\n",
    "plt.show()\n"
   ]
  },
  {
   "cell_type": "code",
   "execution_count": 266,
   "id": "8769a25d",
   "metadata": {
    "scrolled": true
   },
   "outputs": [
    {
     "name": "stdout",
     "output_type": "stream",
     "text": [
      "+--------+------+\n",
      "|features|label |\n",
      "+--------+------+\n",
      "|[2.0]   |24565 |\n",
      "|[4.0]   |20129 |\n",
      "|[4.0]   |21421 |\n",
      "|[4.0]   |22030 |\n",
      "|[4.0]   |24534 |\n",
      "|[4.0]   |24790 |\n",
      "|[4.0]   |31681 |\n",
      "|[4.0]   |32997 |\n",
      "|[4.0]   |35921 |\n",
      "|[4.0]   |37900 |\n",
      "|[4.0]   |38017 |\n",
      "|[4.0]   |40936 |\n",
      "|[4.0]   |41526 |\n",
      "|[4.0]   |45000 |\n",
      "|[4.0]   |102945|\n",
      "|[4.0]   |125000|\n",
      "|[4.0]   |180781|\n",
      "|[4.0]   |215000|\n",
      "|[5.0]   |25500 |\n",
      "|[5.0]   |29146 |\n",
      "+--------+------+\n",
      "only showing top 20 rows\n",
      "\n"
     ]
    }
   ],
   "source": [
    "#Machine Learning -Linear Regression\n",
    "from pyspark.ml.feature import VectorAssembler \n",
    "data2=df.select(df.Seats,df.PriceEuro.alias('label'))\n",
    "train,test =data2.randomSplit([.7,.3])\n",
    "assembler=VectorAssembler().setInputCols(['Seats',]).setOutputCol('features')\n",
    "train01=assembler.transform(train)\n",
    "'''only need features and label column'''\n",
    "train02=train01.select(\"features\",\"label\")\n",
    "train02.show(truncate=False)"
   ]
  },
  {
   "cell_type": "code",
   "execution_count": 258,
   "id": "d4fda7eb",
   "metadata": {},
   "outputs": [
    {
     "name": "stdout",
     "output_type": "stream",
     "text": [
      "+--------+------+-----------------+\n",
      "|features|label |prediction       |\n",
      "+--------+------+-----------------+\n",
      "|[4.0]   |20129 |55549.0423514538 |\n",
      "|[4.0]   |21421 |55549.0423514538 |\n",
      "|[4.0]   |32997 |55549.0423514538 |\n",
      "|[4.0]   |34900 |55549.0423514538 |\n",
      "|[4.0]   |38017 |55549.0423514538 |\n",
      "|[4.0]   |45000 |55549.0423514538 |\n",
      "|[4.0]   |109302|55549.0423514538 |\n",
      "|[4.0]   |180781|55549.0423514538 |\n",
      "|[5.0]   |29234 |54207.52718078383|\n",
      "|[5.0]   |29682 |54207.52718078383|\n",
      "|[5.0]   |30000 |54207.52718078383|\n",
      "|[5.0]   |32646 |54207.52718078383|\n",
      "|[5.0]   |33133 |54207.52718078383|\n",
      "|[5.0]   |35000 |54207.52718078383|\n",
      "|[5.0]   |36837 |54207.52718078383|\n",
      "|[5.0]   |36837 |54207.52718078383|\n",
      "|[5.0]   |38105 |54207.52718078383|\n",
      "|[5.0]   |40000 |54207.52718078383|\n",
      "|[5.0]   |45000 |54207.52718078383|\n",
      "|[5.0]   |46900 |54207.52718078383|\n",
      "+--------+------+-----------------+\n",
      "only showing top 20 rows\n",
      "\n"
     ]
    }
   ],
   "source": [
    "#Machine Learning -Linear Regression\n",
    "# Import LinearRegression class\\n\"\n",
    "from pyspark.ml.regression import LinearRegression\n",
    "lr = LinearRegression()\n",
    "model = lr.fit(train02)\n",
    "test01 = assembler.transform(test)\n",
    "test02 = test01.select('features', 'label')\n",
    "test03 = model.transform(test02)\n",
    "test03.show(truncate=False)"
   ]
  },
  {
   "cell_type": "code",
   "execution_count": 260,
   "id": "dae75aae",
   "metadata": {},
   "outputs": [
    {
     "name": "stdout",
     "output_type": "stream",
     "text": [
      "-0.02261268298925434\n"
     ]
    }
   ],
   "source": [
    "from pyspark.ml.evaluation import RegressionEvaluator\n",
    "evaluator = RegressionEvaluator()\n",
    "print(evaluator.evaluate(test03,{evaluator.metricName: \"r2\"}))"
   ]
  },
  {
   "cell_type": "code",
   "execution_count": 261,
   "id": "f04ac04f",
   "metadata": {},
   "outputs": [
    {
     "name": "stdout",
     "output_type": "stream",
     "text": [
      "[-1341.515170669964]\n"
     ]
    }
   ],
   "source": [
    "\n",
    "print(model.coefficients)"
   ]
  },
  {
   "cell_type": "code",
   "execution_count": 262,
   "id": "b3770d18",
   "metadata": {},
   "outputs": [
    {
     "name": "stdout",
     "output_type": "stream",
     "text": [
      "60915.10303413365\n"
     ]
    }
   ],
   "source": [
    "print (model.intercept)"
   ]
  },
  {
   "cell_type": "code",
   "execution_count": null,
   "id": "4b5a30cc",
   "metadata": {},
   "outputs": [],
   "source": []
  },
  {
   "cell_type": "code",
   "execution_count": null,
   "id": "83a1828d",
   "metadata": {},
   "outputs": [],
   "source": []
  }
 ],
 "metadata": {
  "kernelspec": {
   "display_name": "Python 3",
   "language": "python",
   "name": "python3"
  },
  "language_info": {
   "codemirror_mode": {
    "name": "ipython",
    "version": 3
   },
   "file_extension": ".py",
   "mimetype": "text/x-python",
   "name": "python",
   "nbconvert_exporter": "python",
   "pygments_lexer": "ipython3",
   "version": "3.8.8"
  }
 },
 "nbformat": 4,
 "nbformat_minor": 5
}
